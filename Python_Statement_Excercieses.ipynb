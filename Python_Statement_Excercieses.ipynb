{
 "cells": [
  {
   "cell_type": "markdown",
   "id": "41e5c1f2",
   "metadata": {},
   "source": [
    "# Basic Level Programs"
   ]
  },
  {
   "cell_type": "markdown",
   "id": "d395b315",
   "metadata": {},
   "source": [
    "### String\n",
    "\n",
    "Question: Create a string that says \"Python\" and print it.\n"
   ]
  },
  {
   "cell_type": "code",
   "execution_count": 1,
   "id": "0114c3a3",
   "metadata": {},
   "outputs": [
    {
     "name": "stdout",
     "output_type": "stream",
     "text": [
      "Python\n"
     ]
    }
   ],
   "source": [
    "my_string = 'Python'\n",
    "print(my_string)"
   ]
  },
  {
   "cell_type": "markdown",
   "id": "ca9e97d1",
   "metadata": {},
   "source": [
    "### Lists\n",
    "\n",
    "Question: Create a list containing the numbers 1, 2, 3, 4, 5 and print it."
   ]
  },
  {
   "cell_type": "code",
   "execution_count": 2,
   "id": "40be49ce",
   "metadata": {},
   "outputs": [
    {
     "name": "stdout",
     "output_type": "stream",
     "text": [
      "[1, 2, 3, 4, 5]\n"
     ]
    }
   ],
   "source": [
    "my_list = [1,2,3,4,5]\n",
    "\n",
    "print(my_list)"
   ]
  },
  {
   "cell_type": "markdown",
   "id": "24b75ec5",
   "metadata": {},
   "source": [
    "### Dictionaries\n",
    "\n",
    "Question: Create a dictionary representing a person where the keys are \"name\", \"age\", and \"city\" and the values are your choice. Print the dictionary."
   ]
  },
  {
   "cell_type": "code",
   "execution_count": 3,
   "id": "a4a13236",
   "metadata": {},
   "outputs": [
    {
     "name": "stdout",
     "output_type": "stream",
     "text": [
      "{'name': 'John', 'age': 30, 'city': 'Jaipur'}\n"
     ]
    }
   ],
   "source": [
    "my_dict = {'name': 'John', 'age': 30, 'city': 'Jaipur'}\n",
    "print(my_dict)"
   ]
  },
  {
   "cell_type": "markdown",
   "id": "0d92a603",
   "metadata": {},
   "source": [
    "### Tuples\n",
    "\n",
    "Question: Create a tuple containing any three colors and print it."
   ]
  },
  {
   "cell_type": "code",
   "execution_count": 5,
   "id": "94e5b68d",
   "metadata": {},
   "outputs": [
    {
     "name": "stdout",
     "output_type": "stream",
     "text": [
      "('red', 'blue', 'green')\n"
     ]
    }
   ],
   "source": [
    "my_tuple = ('red','blue','green')\n",
    "print(my_tuple)"
   ]
  },
  {
   "cell_type": "markdown",
   "id": "f1752193",
   "metadata": {},
   "source": [
    "### Sets\n",
    "\n",
    "Question: Create a set containing the numbers 1, 2, 3, and 4, and then print it."
   ]
  },
  {
   "cell_type": "code",
   "execution_count": 4,
   "id": "3cc27996",
   "metadata": {},
   "outputs": [
    {
     "name": "stdout",
     "output_type": "stream",
     "text": [
      "{1, 2, 3, 4, 5}\n"
     ]
    }
   ],
   "source": [
    "my_set = {1,2,3,4,5}\n",
    "print(my_set)"
   ]
  },
  {
   "cell_type": "markdown",
   "id": "3f2040a0",
   "metadata": {},
   "source": [
    "## Small Project \n",
    "\n",
    "We'll create a basic data structure that represents a classroom environment, incorporating all these data types in a context that ties them together meaningfully."
   ]
  },
  {
   "cell_type": "markdown",
   "id": "58d28202",
   "metadata": {},
   "source": [
    "### Project: Classroom Organizer\n",
    "\n",
    "**Basic Level**\n",
    "\n",
    "**Objective**- You're organizing information for a classroom. You need to track the names of the students, their unique student IDs, their favorite subjects, and a set of classes they are enrolled in this semester. You will use the different Python data types to represent this information.\n",
    "\n",
    "- **String**: Use a string to represent the name of the classroom.\n",
    "- **List**: Create a list of student names.\n",
    "- **Dictionary**: Use a dictionary to map student IDs (as keys) to their favorite subjects (as values).\n",
    "- **Tuple**: Create a tuple representing the schedule of classes for a particular day.\n",
    "- **Set**: Use a set to represent all unique subjects offered in the classroom."
   ]
  },
  {
   "cell_type": "code",
   "execution_count": 6,
   "id": "f855d82d",
   "metadata": {},
   "outputs": [
    {
     "name": "stdout",
     "output_type": "stream",
     "text": [
      "Classroom: Python Programming 101\n",
      "Students: ['Alice', 'Bob', 'Charlie', 'Diana']\n",
      "Favorite Subjects: {'001': 'Mathematics', '002': 'Science', '003': 'History', '004': 'Art'}\n",
      "Monday's Schedule: ('Mathematics', 'Science', 'Python Programming', 'Art')\n",
      "Subjects Offered: {'Mathematics', 'History', 'Art', 'Python Programming', 'Science'}\n"
     ]
    }
   ],
   "source": [
    "# String: Classroom name\n",
    "\n",
    "classroom_name = \"Python Programming 101\"\n",
    "\n",
    "# List: Names of Students\n",
    "\n",
    "student_names = [\"Alice\", \"Bob\", \"Charlie\", \"Diana\"]\n",
    "\n",
    "# Dictionary: Student IDs and their favorite subjects\n",
    "\n",
    "favorite_subjects = {'001': 'Mathematics', '002': 'Science', '003': 'History', '004': 'Art'}\n",
    "\n",
    "# Tuple: Schedule of classes for Monday\n",
    "monday_schedule = ('Mathematics', 'Science', 'Python Programming', 'Art')\n",
    "\n",
    "# Set: Unique subjects offered\n",
    "subjects_offered = {'Mathematics', 'Science', 'Python Programming', 'History', 'Art'}\n",
    "\n",
    "# Printing the organised classroom information\n",
    "print(f'Classroom: {classroom_name}')\n",
    "print(f'Students: {student_names}')\n",
    "print(f'Favorite Subjects: {favorite_subjects}')\n",
    "print(f\"Monday's Schedule: {monday_schedule}\")\n",
    "print(f\"Subjects Offered: {subjects_offered}\")"
   ]
  },
  {
   "cell_type": "markdown",
   "id": "bf44f2f9",
   "metadata": {},
   "source": [
    "# Advance Level Programs"
   ]
  },
  {
   "cell_type": "markdown",
   "id": "83642542",
   "metadata": {},
   "source": [
    "### String"
   ]
  },
  {
   "cell_type": "code",
   "execution_count": null,
   "id": "14b4bb89",
   "metadata": {},
   "outputs": [],
   "source": []
  }
 ],
 "metadata": {
  "kernelspec": {
   "display_name": "Python 3 (ipykernel)",
   "language": "python",
   "name": "python3"
  },
  "language_info": {
   "codemirror_mode": {
    "name": "ipython",
    "version": 3
   },
   "file_extension": ".py",
   "mimetype": "text/x-python",
   "name": "python",
   "nbconvert_exporter": "python",
   "pygments_lexer": "ipython3",
   "version": "3.11.5"
  }
 },
 "nbformat": 4,
 "nbformat_minor": 5
}
